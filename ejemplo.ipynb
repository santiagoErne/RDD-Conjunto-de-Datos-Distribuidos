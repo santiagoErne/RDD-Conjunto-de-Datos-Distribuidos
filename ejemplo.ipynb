{
  "nbformat": 4,
  "nbformat_minor": 0,
  "metadata": {
    "colab": {
      "provenance": [],
      "toc_visible": true,
      "include_colab_link": true
    },
    "kernelspec": {
      "name": "python3",
      "display_name": "Python 3"
    },
    "language_info": {
      "name": "python"
    }
  },
  "cells": [
    {
      "cell_type": "markdown",
      "metadata": {
        "id": "view-in-github",
        "colab_type": "text"
      },
      "source": [
        "<a href=\"https://colab.research.google.com/github/santiagoErne/RDD-Conjunto-de-Datos-Distribuidos/blob/main/ejemplo.ipynb\" target=\"_parent\"><img src=\"https://colab.research.google.com/assets/colab-badge.svg\" alt=\"Open In Colab\"/></a>"
      ]
    },
    {
      "cell_type": "code",
      "source": [
        "from pyspark.context import SparkContext\n"
      ],
      "metadata": {
        "id": "oGY7YskfE5M4"
      },
      "execution_count": null,
      "outputs": []
    },
    {
      "cell_type": "code",
      "source": [
        "from pyspark.context import SparkContext\n",
        "\n",
        "# Instead of creating a new SparkContext, get the existing one or create if none exists\n",
        "sc = SparkContext.getOrCreate()\n",
        "\n",
        "rdd = sc.parallelize([1, 2, 3, 4, 5])\n",
        "count = rdd.count()\n",
        "print(count)  # Output: 5"
      ],
      "metadata": {
        "colab": {
          "base_uri": "https://localhost:8080/"
        },
        "id": "cfIgd8SwbRHe",
        "outputId": "bb303664-0c4c-44c9-8b78-43aa98860b03"
      },
      "execution_count": null,
      "outputs": [
        {
          "output_type": "stream",
          "name": "stdout",
          "text": [
            "5\n"
          ]
        }
      ]
    },
    {
      "cell_type": "code",
      "source": [
        "# Importar PySpark\n",
        "from pyspark import SparkContext\n",
        "\n",
        "# Inicializar SparkContext\n",
        "sc = SparkContext.getOrCreate()\n",
        "\n",
        "# Crear un RDD de ejemplo\n",
        "rdd = sc.parallelize([1, 2, 3, 4, 5])\n",
        "\n",
        "# 1. `count` - Devuelve el número de elementos en el RDD.\n",
        "count = rdd.count()\n",
        "print(\"Count:\", count)  # Output: 5\n",
        "\n",
        "# 2. `first` - Devuelve el primer elemento del RDD.\n",
        "first_element = rdd.first()\n",
        "print(\"First element:\", first_element)  # Output: 1\n",
        "\n",
        "# 3. `take(n)` - Devuelve los primeros `n` elementos del RDD.\n",
        "first_three = rdd.take(3)\n",
        "print(\"First three elements:\", first_three)  # Output: [1, 2, 3]\n",
        "\n",
        "# 4. `saveAsTextFile(path)` - Guarda el RDD en un archivo de texto.\n",
        "# NOTA: Guardará el archivo en la carpeta de trabajo de Colab\n",
        "rdd.saveAsTextFile(\"/content/output_rdd\")\n",
        "\n",
        "# 5. `max` y `min` - Devuelve el valor máximo o mínimo del RDD.\n",
        "max_value = rdd.max()\n",
        "min_value = rdd.min()\n",
        "print(\"Max value:\", max_value)  # Output: 5\n",
        "print(\"Min value:\", min_value)  # Output: 1\n",
        "\n",
        "# 6. `countByKey` - Contar las veces que aparece cada clave en un RDD de pares clave-valor.\n",
        "# Crear un RDD de pares clave-valor\n",
        "rdd_pairs = sc.parallelize([(\"a\", 1), (\"b\", 1), (\"a\", 1)])\n",
        "count_by_key = rdd_pairs.countByKey()\n",
        "print(\"Count by key:\", dict(count_by_key))  # Output: {'a': 2, 'b': 1}\n",
        "\n",
        "# 7. `foreach` - Aplica una función a cada elemento del RDD (normalmente para efectos secundarios como imprimir).\n",
        "def print_element(x):\n",
        "    print(\"Element:\", x)\n",
        "\n",
        "rdd.foreach(print_element)\n"
      ],
      "metadata": {
        "colab": {
          "base_uri": "https://localhost:8080/"
        },
        "id": "Xo9Pe32ycjPw",
        "outputId": "b729384c-5b13-4bb5-d9ac-43437661d167"
      },
      "execution_count": null,
      "outputs": [
        {
          "output_type": "stream",
          "name": "stdout",
          "text": [
            "Count: 5\n",
            "First element: 1\n",
            "First three elements: [1, 2, 3]\n",
            "Max value: 5\n",
            "Min value: 1\n",
            "Count by key: {'a': 2, 'b': 1}\n"
          ]
        }
      ]
    },
    {
      "cell_type": "markdown",
      "source": [
        "# Sección nueva"
      ],
      "metadata": {
        "id": "T00Dm-uKcgMW"
      }
    },
    {
      "cell_type": "code",
      "source": [
        "from pyspark import SparkContext"
      ],
      "metadata": {
        "id": "600p-zwiHCr-"
      },
      "execution_count": null,
      "outputs": []
    },
    {
      "cell_type": "code",
      "source": [
        "from pyspark.sql import SparkSession\n",
        "from pyspark.sql.functions import *"
      ],
      "metadata": {
        "id": "lRXeePNvHE-2"
      },
      "execution_count": null,
      "outputs": []
    },
    {
      "cell_type": "code",
      "source": [
        "# Inicializar SparkContext\n",
        "ejemplo = SparkContext.getOrCreate()"
      ],
      "metadata": {
        "id": "Jl0EVJP0IgMu"
      },
      "execution_count": null,
      "outputs": []
    },
    {
      "cell_type": "code",
      "source": [
        "rdd = ejemplo.parallelize([\"b\", \"a\", \"c\"])\n",
        "sorted(rdd.map(lambda x: (x, 1)).collect())"
      ],
      "metadata": {
        "colab": {
          "base_uri": "https://localhost:8080/"
        },
        "id": "NsvENCnLJWqP",
        "outputId": "e10a82ab-ecd0-4398-824a-1f4ed9a2d0db"
      },
      "execution_count": null,
      "outputs": [
        {
          "output_type": "execute_result",
          "data": {
            "text/plain": [
              "[('a', 1), ('b', 1), ('c', 1)]"
            ]
          },
          "metadata": {},
          "execution_count": 18
        }
      ]
    },
    {
      "cell_type": "code",
      "source": [
        "rdd = ejemplo.parallelize([1, 2, 3, 4, 5])\n",
        "rdd.filter(lambda x: x % 2 == 0).collect()"
      ],
      "metadata": {
        "colab": {
          "base_uri": "https://localhost:8080/"
        },
        "id": "bcRSHNr4KmuN",
        "outputId": "0536c340-c9f4-4459-c4c3-43d5efab0f30"
      },
      "execution_count": null,
      "outputs": [
        {
          "output_type": "execute_result",
          "data": {
            "text/plain": [
              "[2, 4]"
            ]
          },
          "metadata": {},
          "execution_count": 19
        }
      ]
    },
    {
      "cell_type": "code",
      "source": [
        "rdd = ejemplo.parallelize([2, 3, 4])\n",
        "sorted(rdd.flatMap(lambda x: range(1, x)).collect())\n",
        "[1, 1, 1, 2, 2, 3]\n",
        "sorted(rdd.flatMap(lambda x: [(x, x), (x, x)]).collect())"
      ],
      "metadata": {
        "id": "HxmpH_FiKw6c",
        "colab": {
          "base_uri": "https://localhost:8080/"
        },
        "outputId": "5f996e09-ee28-496e-d388-1e656e78e1e1"
      },
      "execution_count": null,
      "outputs": [
        {
          "output_type": "execute_result",
          "data": {
            "text/plain": [
              "[(2, 2), (2, 2), (3, 3), (3, 3), (4, 4), (4, 4)]"
            ]
          },
          "metadata": {},
          "execution_count": 20
        }
      ]
    },
    {
      "cell_type": "code",
      "source": [
        "rdd = ejemplo.parallelize([1, 1, 2, 3])\n",
        "rdd.union(rdd).collect()"
      ],
      "metadata": {
        "colab": {
          "base_uri": "https://localhost:8080/"
        },
        "id": "fCawKU0NkDZU",
        "outputId": "03bea2bc-64f2-443b-8374-3044260892f1"
      },
      "execution_count": null,
      "outputs": [
        {
          "output_type": "execute_result",
          "data": {
            "text/plain": [
              "[1, 1, 2, 3, 1, 1, 2, 3]"
            ]
          },
          "metadata": {},
          "execution_count": 21
        }
      ]
    },
    {
      "cell_type": "code",
      "source": [
        "# Creamos un RDD con una lista de frases\n",
        "rdd = ejemplo.parallelize([\"Hola mundo\", \"aprendiendo Spark\", \"con flatMap\"])\n",
        "\n",
        "# Usamos flatMap para dividir cada frase en palabras\n",
        "resultado = rdd.flatMap(lambda frase: frase.split(\" \")).collect()\n",
        "\n",
        "print(resultado)\n"
      ],
      "metadata": {
        "colab": {
          "base_uri": "https://localhost:8080/"
        },
        "id": "1t8CLLOSkvyP",
        "outputId": "fee3306b-4c3f-4d46-b1d0-452aa6f36524"
      },
      "execution_count": null,
      "outputs": [
        {
          "output_type": "stream",
          "name": "stdout",
          "text": [
            "['Hola', 'mundo', 'aprendiendo', 'Spark', 'con', 'flatMap']\n"
          ]
        }
      ]
    },
    {
      "cell_type": "code",
      "source": [
        "rdd1 = ejemplo.parallelize([1, 10, 2, 3, 4, 5])\n",
        "rdd2 = ejemplo.parallelize([1, 6, 2, 3, 7, 8])\n",
        "rdd1.intersection(rdd2).collect()"
      ],
      "metadata": {
        "colab": {
          "base_uri": "https://localhost:8080/"
        },
        "id": "hFsgee4L_A_F",
        "outputId": "d674abe1-dd7e-4dbe-f5c3-067225f2494e"
      },
      "execution_count": null,
      "outputs": [
        {
          "output_type": "execute_result",
          "data": {
            "text/plain": [
              "[1, 2, 3]"
            ]
          },
          "metadata": {},
          "execution_count": 23
        }
      ]
    },
    {
      "cell_type": "code",
      "source": [
        "sorted(ejemplo.parallelize([1, 1, 2, 3]).distinct().collect())"
      ],
      "metadata": {
        "colab": {
          "base_uri": "https://localhost:8080/"
        },
        "id": "zSGSgtEw_scD",
        "outputId": "df763229-8c3b-43cd-dcf9-22534482de2b"
      },
      "execution_count": null,
      "outputs": [
        {
          "output_type": "execute_result",
          "data": {
            "text/plain": [
              "[1, 2, 3]"
            ]
          },
          "metadata": {},
          "execution_count": 24
        }
      ]
    },
    {
      "cell_type": "code",
      "source": [
        "rdd = ejemplo.parallelize([(\"a\", 1), (\"b\", 1), (\"a\", 1)])\n",
        "sorted(rdd.groupByKey().mapValues(len).collect())"
      ],
      "metadata": {
        "colab": {
          "base_uri": "https://localhost:8080/"
        },
        "id": "wIA9S_N2_95j",
        "outputId": "28c35dba-5fbe-4be6-a484-d8e5a694c7da"
      },
      "execution_count": null,
      "outputs": [
        {
          "output_type": "execute_result",
          "data": {
            "text/plain": [
              "[('a', 2), ('b', 1)]"
            ]
          },
          "metadata": {},
          "execution_count": 25
        }
      ]
    },
    {
      "cell_type": "code",
      "source": [
        "sorted(rdd.groupByKey().mapValues(list).collect())"
      ],
      "metadata": {
        "id": "doelvT5BAKtL",
        "outputId": "4ad42ae0-a1a7-4c52-c5a7-bcb26edfd170",
        "colab": {
          "base_uri": "https://localhost:8080/"
        }
      },
      "execution_count": null,
      "outputs": [
        {
          "output_type": "execute_result",
          "data": {
            "text/plain": [
              "[('a', [1, 1]), ('b', [1])]"
            ]
          },
          "metadata": {},
          "execution_count": 26
        }
      ]
    }
  ]
}