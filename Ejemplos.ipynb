{
  "nbformat": 4,
  "nbformat_minor": 0,
  "metadata": {
    "colab": {
      "provenance": [],
      "authorship_tag": "ABX9TyNnOZt2fmdnlTcUeqYNpOzo",
      "include_colab_link": true
    },
    "kernelspec": {
      "name": "python3",
      "display_name": "Python 3"
    },
    "language_info": {
      "name": "python"
    }
  },
  "cells": [
    {
      "cell_type": "markdown",
      "metadata": {
        "id": "view-in-github",
        "colab_type": "text"
      },
      "source": [
        "<a href=\"https://colab.research.google.com/github/santiagoErne/RDD-Conjunto-de-Datos-Distribuidos/blob/main/Ejemplos.ipynb\" target=\"_parent\"><img src=\"https://colab.research.google.com/assets/colab-badge.svg\" alt=\"Open In Colab\"/></a>"
      ]
    },
    {
      "cell_type": "code",
      "execution_count": 1,
      "metadata": {
        "colab": {
          "base_uri": "https://localhost:8080/"
        },
        "id": "a9ImyJ92g6gX",
        "outputId": "6d00a6a1-5728-4a18-9e38-4befc4788d28"
      },
      "outputs": [
        {
          "output_type": "stream",
          "name": "stdout",
          "text": [
            "Requirement already satisfied: pyspark in /usr/local/lib/python3.10/dist-packages (3.5.3)\n",
            "Requirement already satisfied: py4j==0.10.9.7 in /usr/local/lib/python3.10/dist-packages (from pyspark) (0.10.9.7)\n"
          ]
        }
      ],
      "source": [
        "!pip install pyspark"
      ]
    },
    {
      "cell_type": "code",
      "source": [
        "from pyspark import SparkContext, SparkConf\n",
        "\n",
        "conf = SparkConf().setAppName(\"EjemplosRDD\").setMaster(\"local\")\n",
        "sc = SparkContext(conf=conf)"
      ],
      "metadata": {
        "id": "v2C2il9cr4LN"
      },
      "execution_count": 2,
      "outputs": []
    },
    {
      "cell_type": "code",
      "source": [
        "rdd = sc.parallelize([(\"a\", 1), (\"b\", 1), (\"a\", 2), (\"b\", 3), (\"c\", 5)])\n",
        "rdd_reduced = rdd.reduceByKey(lambda x, y: x + y)\n",
        "print(\"Resultado de reduceByKey:\", rdd_reduced.collect())"
      ],
      "metadata": {
        "colab": {
          "base_uri": "https://localhost:8080/"
        },
        "id": "nV2zFQsKsCGH",
        "outputId": "5ef2e10f-e2fb-4d7b-8e36-ee4e5c9efbe0"
      },
      "execution_count": 3,
      "outputs": [
        {
          "output_type": "stream",
          "name": "stdout",
          "text": [
            "Resultado de reduceByKey: [('a', 3), ('b', 4), ('c', 5)]\n"
          ]
        }
      ]
    },
    {
      "cell_type": "code",
      "source": [
        "rdd_sorted = rdd_reduced.sortByKey()\n",
        "print(\"Resultado de sortByKey:\", rdd_sorted.collect())"
      ],
      "metadata": {
        "colab": {
          "base_uri": "https://localhost:8080/"
        },
        "id": "Qq1I512A_HVC",
        "outputId": "e3617783-a77f-4bf7-ffc8-e835550dd89c"
      },
      "execution_count": 4,
      "outputs": [
        {
          "output_type": "stream",
          "name": "stdout",
          "text": [
            "Resultado de sortByKey: [('a', 3), ('b', 4), ('c', 5)]\n"
          ]
        }
      ]
    },
    {
      "cell_type": "code",
      "source": [
        "rdd2 = sc.parallelize([(\"a\", 10), (\"b\", 20), (\"c\", 30)])\n",
        "rdd_joined = rdd_reduced.join(rdd2)\n",
        "print(\"Resultado de join:\", rdd_joined.collect())"
      ],
      "metadata": {
        "colab": {
          "base_uri": "https://localhost:8080/"
        },
        "id": "m0Dp3vp_ACoS",
        "outputId": "563ded1e-5b41-4fa8-9194-c340bc16973c"
      },
      "execution_count": 8,
      "outputs": [
        {
          "output_type": "stream",
          "name": "stdout",
          "text": [
            "Resultado de join: [('b', (4, 20)), ('c', (5, 30)), ('a', (3, 10))]\n"
          ]
        }
      ]
    },
    {
      "cell_type": "code",
      "source": [
        "rdd_cogrouped = rdd_reduced.cogroup(rdd2)\n",
        "print(\"Resultado de cogroup:\", [(k, (list(v[0]), list(v[1]))) for k, v in rdd_cogrouped.collect()])"
      ],
      "metadata": {
        "colab": {
          "base_uri": "https://localhost:8080/"
        },
        "id": "kvAn55pSALMF",
        "outputId": "e4c15b7b-ce58-452a-a831-d0b068769685"
      },
      "execution_count": 9,
      "outputs": [
        {
          "output_type": "stream",
          "name": "stdout",
          "text": [
            "Resultado de cogroup: [('b', ([4], [20])), ('c', ([5], [30])), ('a', ([3], [10]))]\n"
          ]
        }
      ]
    },
    {
      "cell_type": "code",
      "source": [
        "rdd_coalesced = rdd_reduced.coalesce(1)\n",
        "print(\"Número de particiones después de coalesce:\", rdd_coalesced.getNumPartitions())"
      ],
      "metadata": {
        "colab": {
          "base_uri": "https://localhost:8080/"
        },
        "id": "WcbTNPVcANmn",
        "outputId": "f0d35f26-c673-4b3f-a9f3-55117b7582b3"
      },
      "execution_count": 10,
      "outputs": [
        {
          "output_type": "stream",
          "name": "stdout",
          "text": [
            "Número de particiones después de coalesce: 1\n"
          ]
        }
      ]
    },
    {
      "cell_type": "code",
      "source": [
        "resultado_collect = rdd_reduced.collect()\n",
        "print(\"Resultado de collect:\", resultado_collect)"
      ],
      "metadata": {
        "colab": {
          "base_uri": "https://localhost:8080/"
        },
        "id": "c0thX8BLAQ-V",
        "outputId": "8c92eed2-0577-4d40-abd0-dadf2e2886f6"
      },
      "execution_count": 11,
      "outputs": [
        {
          "output_type": "stream",
          "name": "stdout",
          "text": [
            "Resultado de collect: [('a', 3), ('b', 4), ('c', 5)]\n"
          ]
        }
      ]
    }
  ]
}